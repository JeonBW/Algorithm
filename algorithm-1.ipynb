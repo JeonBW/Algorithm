{
 "cells": [
  {
   "cell_type": "markdown",
   "metadata": {},
   "source": [
    "### 1부터 n까지의 합을 구하기\n",
    "\n",
    "+ 합을 기록할 변수를 만들고 0을 저장\n",
    "+ n을 1부터 1씩 증가하면서 반복\n",
    "+ 반복문 안에서 합을 기록할 변수에 1씩 증가된 값을 더함\n",
    "+ 반복이 끝나면 합을 출력"
   ]
  },
  {
   "cell_type": "code",
   "execution_count": 1,
   "metadata": {},
   "outputs": [
    {
     "name": "stdout",
     "output_type": "stream",
     "text": [
      "time: 0.5061795711517334\n"
     ]
    }
   ],
   "source": [
    "# 성능표기에는 O(n) 으로 표기\n",
    "def sum1(n):\n",
    "    sum_n = 0\n",
    "    for i in range(1, n+1):\n",
    "        sum_n += i\n",
    "    return sum_n\n",
    "\n",
    "import time \n",
    "start_time = time.time()\n",
    "sum1(10000000) #5050\n",
    "end_time = time.time()\n",
    "print(\"time:\", end_time - start_time)"
   ]
  },
  {
   "cell_type": "code",
   "execution_count": 2,
   "metadata": {},
   "outputs": [
    {
     "name": "stdout",
     "output_type": "stream",
     "text": [
      "time: 0.0\n"
     ]
    }
   ],
   "source": [
    "# n(n+1)/2 \n",
    "# O(1)\n",
    "# 복잡도는 반복문에 따라서 \n",
    "\n",
    "def sum2(n):\n",
    "    return int(n*(n+1)/2)\n",
    "start_time = time.time()\n",
    "sum2(10000000)\n",
    "end_time = time.time()\n",
    "print(\"time:\", end_time - start_time)"
   ]
  },
  {
   "cell_type": "markdown",
   "metadata": {},
   "source": [
    "### 중복된 데이터 삭제 \n",
    "\n",
    "names = [\"Dave \", \"David\", \"Anthony\", \"David\", \"Dave\"]\n",
    "\n",
    "find_same_name(names)\n",
    "\n",
    "결과 : [\"Dave\", \"David\", \"Anthony\"]\n",
    "\n",
    "\n",
    "+ set 자료형 사용하지 않기\n",
    "+ del names[인덱스]"
   ]
  },
  {
   "cell_type": "code",
   "execution_count": 3,
   "metadata": {},
   "outputs": [],
   "source": [
    "# O(n)\n",
    "def find_same_name(name_list):\n",
    "    namelist = []\n",
    "    for idx, name in enumerate(name_list):\n",
    "        if name not in name_list[:idx]:\n",
    "            namelist.append(name)\n",
    "    return namelist\n"
   ]
  },
  {
   "cell_type": "code",
   "execution_count": 4,
   "metadata": {},
   "outputs": [
    {
     "name": "stdout",
     "output_type": "stream",
     "text": [
      "결과 : ['Dave', 'David', 'Anthony']\n"
     ]
    }
   ],
   "source": [
    "names = [\"Dave\", \"David\", \"Anthony\", \"David\", \"Dave\"]\n",
    "namelist = find_same_name(names)\n",
    "print(\"결과 :\", namelist)"
   ]
  },
  {
   "cell_type": "code",
   "execution_count": 5,
   "metadata": {},
   "outputs": [],
   "source": [
    "# O(n^2)\n",
    "def find_same_name(name_list):\n",
    "    for idx, name in enumerate(name_list):\n",
    "        for idx2 in range(idx+1, len(name_list)):\n",
    "            if(name == name_list[idx2]):\n",
    "                del name_list[idx2]\n",
    "\n",
    "    return name_list\n",
    "\n",
    "# 시간복잡도는 나쁘나 공간복잡도는 좋다."
   ]
  },
  {
   "cell_type": "code",
   "execution_count": 6,
   "metadata": {},
   "outputs": [
    {
     "name": "stdout",
     "output_type": "stream",
     "text": [
      "결과 : ['Dave', 'David', 'Anthony']\n"
     ]
    }
   ],
   "source": [
    "names = [\"Dave\", \"David\", \"Anthony\", \"David\", \"Dave\"]\n",
    "namelist = find_same_name(names)\n",
    "print(\"결과 :\", namelist)"
   ]
  },
  {
   "cell_type": "markdown",
   "metadata": {},
   "source": [
    "### 최대값 구하기"
   ]
  },
  {
   "cell_type": "code",
   "execution_count": 7,
   "metadata": {},
   "outputs": [
    {
     "name": "stdout",
     "output_type": "stream",
     "text": [
      "92\n"
     ]
    }
   ],
   "source": [
    "# O(n) :길이나 크기의 비례해서 시간도 증가\n",
    "def find_max(n):\n",
    "    max_d=n[0]\n",
    "    for i in range(1, len(data)):\n",
    "        if n[i]> max_d:\n",
    "            max_d=n[i]\n",
    "    return max_d\n",
    "            \n",
    "\n",
    "data = [17, 18, 92, 33, 58, 7, 33, 42]\n",
    "print(find_max(data))"
   ]
  },
  {
   "cell_type": "code",
   "execution_count": 8,
   "metadata": {},
   "outputs": [
    {
     "name": "stdout",
     "output_type": "stream",
     "text": [
      "2\n"
     ]
    }
   ],
   "source": [
    "# 위치 구하기 \n",
    "def find_max_idx(n):\n",
    "    max_idx = 0\n",
    "    for i in range(1, len(data)):\n",
    "        if n[i]> n[max_idx]:\n",
    "            max_idx= i\n",
    "    return max_idx\n",
    "            \n",
    "\n",
    "data = [17, 18, 92, 33, 58, 7, 33, 42]\n",
    "print(find_max_idx (data))\n"
   ]
  },
  {
   "cell_type": "markdown",
   "metadata": {},
   "source": [
    "### 숫자 야구 프로그램\n",
    "\n",
    "+ 숫자 3개를 임의로 생각\n",
    "+ 숫자와 위치가 같으면 스트라이크\n",
    "+ 숫자만 같고 위치만 다르면 볼\n",
    "+ 하나도 같은게 없으면 아웃\n",
    "\n",
    "+ 술래(컴퓨터) 임의의 숫자 3개를 준비 \n",
    "+ 숫자는 절대 중복되어서는 안된다.\n",
    "+ 숫자는 1~9 까지로 한다."
   ]
  },
  {
   "cell_type": "code",
   "execution_count": 9,
   "metadata": {},
   "outputs": [
    {
     "data": {
      "text/plain": [
       "'\\n숫자 야구 게임을 시작합니다.!!!\\n--------------------------------------\\n정답 : 369\\n숫자 3자리 입력 : 123\\n결과 : [0] 스트라이크 [1] 볼 \\n\\n숫자 3자리 입력 : 345\\n결과 : [1] 스트라이크 [0] 볼 \\n\\n숫자 3자리 입력 : 127\\n결과 : 아웃 \\n\\n숫자 3자리 입력 : 369\\n결과 : 축하합니다\\n횟수 : t\\n'"
      ]
     },
     "execution_count": 9,
     "metadata": {},
     "output_type": "execute_result"
    }
   ],
   "source": [
    "\"\"\"\n",
    "숫자 야구 게임을 시작합니다.!!!\n",
    "--------------------------------------\n",
    "정답 : 369\n",
    "숫자 3자리 입력 : 123\n",
    "결과 : [0] 스트라이크 [1] 볼 \n",
    "\n",
    "숫자 3자리 입력 : 345\n",
    "결과 : [1] 스트라이크 [0] 볼 \n",
    "\n",
    "숫자 3자리 입력 : 127\n",
    "결과 : 아웃 \n",
    "\n",
    "숫자 3자리 입력 : 369\n",
    "결과 : 축하합니다\n",
    "횟수 : t\n",
    "\"\"\""
   ]
  },
  {
   "cell_type": "code",
   "execution_count": 10,
   "metadata": {
    "scrolled": false
   },
   "outputs": [
    {
     "name": "stdout",
     "output_type": "stream",
     "text": [
      "[1, 2, 3, 4, 5, 6, 7, 8, 9]\n",
      "[4, 6, 9]\n",
      "숫자 3자리를 입력하세요469\n",
      "정답입니다. 총 도전 횟수 :1\n",
      "[4, 6, 9]\n",
      "총 걸린시간: 4.0521 초\n"
     ]
    }
   ],
   "source": []
  },
  {
   "cell_type": "code",
   "execution_count": 11,
   "metadata": {},
   "outputs": [
    {
     "name": "stdout",
     "output_type": "stream",
     "text": [
      "숫자 3자리를 입력하세요155\n",
      "[1, 5, 5]\n",
      "Out\n",
      "숫자 3자리를 입력하세요469\n",
      "정답입니다. 총 도전 횟수 :2\n",
      "[4, 6, 9]\n",
      "[4, 6, 9]\n",
      "총 걸린시간: 1.1589 초\n"
     ]
    }
   ],
   "source": []
  },
  {
   "cell_type": "code",
   "execution_count": null,
   "metadata": {},
   "outputs": [],
   "source": []
  },
  {
   "cell_type": "code",
   "execution_count": 18,
   "metadata": {},
   "outputs": [
    {
     "name": "stdout",
     "output_type": "stream",
     "text": [
      "6\n"
     ]
    }
   ],
   "source": []
  },
  {
   "cell_type": "code",
   "execution_count": 32,
   "metadata": {},
   "outputs": [
    {
     "ename": "IndexError",
     "evalue": "list index out of range",
     "output_type": "error",
     "traceback": [
      "\u001b[1;31m---------------------------------------------------------------------------\u001b[0m",
      "\u001b[1;31mIndexError\u001b[0m                                Traceback (most recent call last)",
      "\u001b[1;32m<ipython-input-32-7a23285a5a4c>\u001b[0m in \u001b[0;36m<module>\u001b[1;34m\u001b[0m\n\u001b[0;32m      3\u001b[0m     \u001b[0mi\u001b[0m \u001b[1;33m=\u001b[0m \u001b[0mrandom\u001b[0m\u001b[1;33m.\u001b[0m\u001b[0mrandint\u001b[0m\u001b[1;33m(\u001b[0m\u001b[1;36m1\u001b[0m\u001b[1;33m,\u001b[0m \u001b[1;36m9\u001b[0m\u001b[1;33m)\u001b[0m\u001b[1;33m\u001b[0m\u001b[1;33m\u001b[0m\u001b[0m\n\u001b[0;32m      4\u001b[0m     \u001b[0mx\u001b[0m\u001b[1;33m.\u001b[0m\u001b[0mappend\u001b[0m\u001b[1;33m(\u001b[0m\u001b[0mi\u001b[0m\u001b[1;33m)\u001b[0m\u001b[1;33m\u001b[0m\u001b[1;33m\u001b[0m\u001b[0m\n\u001b[1;32m----> 5\u001b[1;33m     \u001b[1;32mif\u001b[0m \u001b[0mx\u001b[0m\u001b[1;33m[\u001b[0m\u001b[1;36m0\u001b[0m\u001b[1;33m]\u001b[0m \u001b[1;33m==\u001b[0m \u001b[0mx\u001b[0m\u001b[1;33m[\u001b[0m\u001b[1;36m1\u001b[0m\u001b[1;33m]\u001b[0m \u001b[1;32mor\u001b[0m \u001b[0mx\u001b[0m\u001b[1;33m[\u001b[0m\u001b[1;36m0\u001b[0m\u001b[1;33m]\u001b[0m \u001b[1;33m==\u001b[0m \u001b[0mx\u001b[0m\u001b[1;33m[\u001b[0m\u001b[1;36m2\u001b[0m\u001b[1;33m]\u001b[0m \u001b[1;32mor\u001b[0m \u001b[0mx\u001b[0m\u001b[1;33m[\u001b[0m\u001b[1;36m1\u001b[0m\u001b[1;33m]\u001b[0m \u001b[1;33m==\u001b[0m \u001b[0mx\u001b[0m\u001b[1;33m[\u001b[0m\u001b[1;36m2\u001b[0m\u001b[1;33m]\u001b[0m\u001b[1;33m:\u001b[0m\u001b[1;33m\u001b[0m\u001b[1;33m\u001b[0m\u001b[0m\n\u001b[0m\u001b[0;32m      6\u001b[0m         \u001b[1;32mcontinue\u001b[0m\u001b[1;33m\u001b[0m\u001b[1;33m\u001b[0m\u001b[0m\n\u001b[0;32m      7\u001b[0m     \u001b[1;32melse\u001b[0m\u001b[1;33m:\u001b[0m\u001b[1;33m\u001b[0m\u001b[1;33m\u001b[0m\u001b[0m\n",
      "\u001b[1;31mIndexError\u001b[0m: list index out of range"
     ]
    }
   ],
   "source": []
  },
  {
   "cell_type": "code",
   "execution_count": 82,
   "metadata": {},
   "outputs": [
    {
     "name": "stdout",
     "output_type": "stream",
     "text": [
      "숫자 야구 게임을 시작합니다.!!!\n",
      "--------------------------------------\n",
      "컴퓨터가 숫자를 결정했습니다.\n",
      "--------------------------------------\n",
      "[5, 9, 7]\n",
      "숫자 3자리를 입력하세요597\n",
      "정답입니다. 총 도전 횟수 :1\n",
      "컴퓨터의 숫자 : [5, 9, 7]\n",
      "정답 : [5, 9, 7]\n",
      "총 걸린시간: 2.8998 초\n"
     ]
    }
   ],
   "source": [
    "import random\n",
    "import time \n",
    "print(\"숫자 야구 게임을 시작합니다.!!!\")\n",
    "print(\"--------------------------------------\")\n",
    "\n",
    "while True :\n",
    "    a1 = random.randint(1, 9)\n",
    "    a2 = random.randint(1, 9)\n",
    "    a3 = random.randint(1, 9)\n",
    "    if a1 != a2 and a1 != a3 and a2 != a3:\n",
    "        b=[a1, a2, a3]\n",
    "        print(\"컴퓨터가 숫자를 결정했습니다.\")\n",
    "        print(\"--------------------------------------\")\n",
    "        break\n",
    "    else:\n",
    "        pass\n",
    "#print(b)\n",
    "cnt=1\n",
    "while True:\n",
    "    start_time = time.time()\n",
    "    select = input(\"숫자 3자리를 입력하세요\")\n",
    "    c=[]\n",
    "    st, ba = 0, 0\n",
    "    for i in map(int, str(select)):\n",
    "        c.append(i)    \n",
    "    d = b+c\n",
    "    for idx in range(3):\n",
    "        if b[idx] == c[idx]:\n",
    "            st+=1\n",
    "        elif b[idx] != c[idx] and b[idx] == c[0] or b[idx] == c[1] or b[idx] == c[2]: \n",
    "            ba +=1\n",
    "    if st == 0 and ba == 0:\n",
    "        print(c)\n",
    "        print(\"Out\")\n",
    "        cnt += 1\n",
    "    elif st == 3 :\n",
    "        print(\"정답입니다. 총 도전 횟수 :{}\".format(cnt))\n",
    "        print(\"컴퓨터의 숫자 :\", b)\n",
    "        print(\"정답 :\", c)\n",
    "        end_time = time.time()\n",
    "        t = end_time - start_time\n",
    "        print(\"총 걸린시간:\", round(t, 4), \"초\")\n",
    "        cnt += 1\n",
    "        break\n",
    "    else :\n",
    "        print(c)\n",
    "        print(\"{}스트라이크 {}볼\".format(st, ba))\n",
    "        cnt += 1"
   ]
  },
  {
   "cell_type": "code",
   "execution_count": 83,
   "metadata": {},
   "outputs": [
    {
     "name": "stdout",
     "output_type": "stream",
     "text": [
      "숫자 야구 게임을 시작합니다.!!!\n",
      "--------------------------------------\n",
      "숫자 3자리를 입력하세요123\n",
      "[1, 2, 3]\n",
      "0스트라이크 1볼\n",
      "숫자 3자리를 입력하세요345\n",
      "[3, 4, 5]\n",
      "1스트라이크 0볼\n",
      "숫자 3자리를 입력하세요127\n",
      "[1, 2, 7]\n",
      "Out\n",
      "숫자 3자리를 입력하세요368\n",
      "[3, 6, 8]\n",
      "2스트라이크 0볼\n",
      "숫자 3자리를 입력하세요369\n",
      "정답입니다. 총 도전 횟수 :5\n",
      "컴퓨터의 숫자 : [3, 6, 9]\n",
      "정답 : [3, 6, 9]\n",
      "총 걸린시간: 4.5125 초\n"
     ]
    }
   ],
   "source": [
    "import random\n",
    "import time \n",
    "print(\"숫자 야구 게임을 시작합니다.!!!\")\n",
    "print(\"--------------------------------------\")\n",
    "\n",
    "b=[3, 6, 9]\n",
    "cnt=1\n",
    "while True:\n",
    "    start_time = time.time()\n",
    "    select = input(\"숫자 3자리를 입력하세요\")\n",
    "    c=[]\n",
    "    st, ba = 0, 0\n",
    "    for i in map(int, str(select)):\n",
    "        c.append(i)    \n",
    "    d = b+c\n",
    "    for idx in range(3):\n",
    "        if b[idx] == c[idx]:\n",
    "            st+=1\n",
    "        elif b[idx] != c[idx] and b[idx] == c[0] or b[idx] == c[1] or b[idx] == c[2]: \n",
    "            ba +=1\n",
    "    if st == 0 and ba == 0:\n",
    "        print(c)\n",
    "        print(\"Out\")\n",
    "        cnt += 1\n",
    "    elif st == 3 :\n",
    "        print(\"정답입니다. 총 도전 횟수 :{}\".format(cnt))\n",
    "        print(\"컴퓨터의 숫자 :\", b)\n",
    "        print(\"정답 :\", c)\n",
    "        end_time = time.time()\n",
    "        t = end_time - start_time\n",
    "        print(\"총 걸린시간:\", round(t, 4), \"초\")\n",
    "        cnt += 1\n",
    "        break\n",
    "    else :\n",
    "        print(c)\n",
    "        print(\"{}스트라이크 {}볼\".format(st, ba))\n",
    "        cnt += 1"
   ]
  },
  {
   "cell_type": "code",
   "execution_count": null,
   "metadata": {},
   "outputs": [],
   "source": []
  }
 ],
 "metadata": {
  "kernelspec": {
   "display_name": "Python 3",
   "language": "python",
   "name": "python3"
  },
  "language_info": {
   "codemirror_mode": {
    "name": "ipython",
    "version": 3
   },
   "file_extension": ".py",
   "mimetype": "text/x-python",
   "name": "python",
   "nbconvert_exporter": "python",
   "pygments_lexer": "ipython3",
   "version": "3.8.3"
  }
 },
 "nbformat": 4,
 "nbformat_minor": 4
}
