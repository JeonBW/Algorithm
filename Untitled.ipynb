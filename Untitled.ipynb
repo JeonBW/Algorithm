{
 "cells": [
  {
   "cell_type": "code",
   "execution_count": 2,
   "metadata": {
    "scrolled": true
   },
   "outputs": [
    {
     "name": "stdout",
     "output_type": "stream",
     "text": [
      "숫자 야구 게임을 시작합니다.!!!\n",
      "--------------------------------------\n",
      "컴퓨터가 숫자를 결정했습니다.\n",
      "--------------------------------------\n",
      "[7, 8, 4]\n",
      "숫자 3자리를 입력하세요785\n",
      "[7, 8, 5]\n",
      "2스트라이크 0볼\n",
      "숫자 3자리를 입력하세요784\n",
      "정답입니다. 총 도전 횟수 :2\n",
      "컴퓨터의 숫자 : [7, 8, 4]\n",
      "정답 : [7, 8, 4]\n",
      "총 걸린시간: 2.1357 초\n"
     ]
    }
   ],
   "source": [
    "import random\n",
    "import time \n",
    "print(\"숫자 야구 게임을 시작합니다.!!!\")\n",
    "print(\"--------------------------------------\")\n",
    "\n",
    "while True :\n",
    "    a1 = random.randint(1, 9)\n",
    "    a2 = random.randint(1, 9)\n",
    "    a3 = random.randint(1, 9)\n",
    "    if a1 != a2 and a1 != a3 and a2 != a3:\n",
    "        b=[a1, a2, a3]\n",
    "        print(\"컴퓨터가 숫자를 결정했습니다.\")\n",
    "        print(\"--------------------------------------\")\n",
    "        break\n",
    "    else:\n",
    "        pass\n",
    "# print(b)\n",
    "cnt=1\n",
    "while True:\n",
    "    start_time = time.time()\n",
    "    select = input(\"숫자 3자리를 입력하세요\")\n",
    "    c=[]\n",
    "    st, ba = 0, 0\n",
    "    for i in map(int, str(select)):\n",
    "        c.append(i)    \n",
    "    d = b+c\n",
    "    for idx in range(3):\n",
    "        if b[idx] == c[idx]:\n",
    "            st+=1\n",
    "        elif b[idx] != c[idx] and b[idx] == c[0] or b[idx] == c[1] or b[idx] == c[2]: \n",
    "            ba +=1\n",
    "    if st == 0 and ba == 0:\n",
    "        print(c)\n",
    "        print(\"아웃!\")\n",
    "        cnt += 1\n",
    "    elif st == 3 :\n",
    "        print(\"정답입니다. 총 도전 횟수 :{}\".format(cnt))\n",
    "        print(\"컴퓨터의 숫자 :\", b)\n",
    "        print(\"정답 :\", c)\n",
    "        end_time = time.time()\n",
    "        t = end_time - start_time\n",
    "        print(\"총 걸린시간:\", round(t, 4), \"초\")\n",
    "        cnt += 1\n",
    "        break\n",
    "    else :\n",
    "        print(c)\n",
    "        print(\"{}스트라이크 {}볼\".format(st, ba))\n",
    "        cnt += 1"
   ]
  },
  {
   "cell_type": "code",
   "execution_count": 3,
   "metadata": {
    "scrolled": true
   },
   "outputs": [
    {
     "name": "stdout",
     "output_type": "stream",
     "text": [
      "숫자 야구 게임을 시작합니다.!!!\n",
      "--------------------------------------\n",
      "컴퓨터가 숫자를 결정했습니다.\n",
      "--------------------------------------\n",
      "숫자 3자리를 입력하세요123\n",
      "[1, 2, 3]\n",
      "1스트라이크 0볼\n",
      "숫자 3자리를 입력하세요5\n"
     ]
    },
    {
     "ename": "IndexError",
     "evalue": "list index out of range",
     "output_type": "error",
     "traceback": [
      "\u001b[1;31m---------------------------------------------------------------------------\u001b[0m",
      "\u001b[1;31mIndexError\u001b[0m                                Traceback (most recent call last)",
      "\u001b[1;32m<ipython-input-3-fbd9292b2dcb>\u001b[0m in \u001b[0;36m<module>\u001b[1;34m\u001b[0m\n\u001b[0;32m     28\u001b[0m         \u001b[1;32mif\u001b[0m \u001b[0mb\u001b[0m\u001b[1;33m[\u001b[0m\u001b[0midx\u001b[0m\u001b[1;33m]\u001b[0m \u001b[1;33m==\u001b[0m \u001b[0mc\u001b[0m\u001b[1;33m[\u001b[0m\u001b[0midx\u001b[0m\u001b[1;33m]\u001b[0m\u001b[1;33m:\u001b[0m\u001b[1;33m\u001b[0m\u001b[1;33m\u001b[0m\u001b[0m\n\u001b[0;32m     29\u001b[0m             \u001b[0mst\u001b[0m\u001b[1;33m+=\u001b[0m\u001b[1;36m1\u001b[0m\u001b[1;33m\u001b[0m\u001b[1;33m\u001b[0m\u001b[0m\n\u001b[1;32m---> 30\u001b[1;33m         \u001b[1;32melif\u001b[0m \u001b[0mb\u001b[0m\u001b[1;33m[\u001b[0m\u001b[0midx\u001b[0m\u001b[1;33m]\u001b[0m \u001b[1;33m!=\u001b[0m \u001b[0mc\u001b[0m\u001b[1;33m[\u001b[0m\u001b[0midx\u001b[0m\u001b[1;33m]\u001b[0m \u001b[1;32mand\u001b[0m \u001b[0mb\u001b[0m\u001b[1;33m[\u001b[0m\u001b[0midx\u001b[0m\u001b[1;33m]\u001b[0m \u001b[1;33m==\u001b[0m \u001b[0mc\u001b[0m\u001b[1;33m[\u001b[0m\u001b[1;36m0\u001b[0m\u001b[1;33m]\u001b[0m \u001b[1;32mor\u001b[0m \u001b[0mb\u001b[0m\u001b[1;33m[\u001b[0m\u001b[0midx\u001b[0m\u001b[1;33m]\u001b[0m \u001b[1;33m==\u001b[0m \u001b[0mc\u001b[0m\u001b[1;33m[\u001b[0m\u001b[1;36m1\u001b[0m\u001b[1;33m]\u001b[0m \u001b[1;32mor\u001b[0m \u001b[0mb\u001b[0m\u001b[1;33m[\u001b[0m\u001b[0midx\u001b[0m\u001b[1;33m]\u001b[0m \u001b[1;33m==\u001b[0m \u001b[0mc\u001b[0m\u001b[1;33m[\u001b[0m\u001b[1;36m2\u001b[0m\u001b[1;33m]\u001b[0m\u001b[1;33m:\u001b[0m\u001b[1;33m\u001b[0m\u001b[1;33m\u001b[0m\u001b[0m\n\u001b[0m\u001b[0;32m     31\u001b[0m             \u001b[0mba\u001b[0m \u001b[1;33m+=\u001b[0m\u001b[1;36m1\u001b[0m\u001b[1;33m\u001b[0m\u001b[1;33m\u001b[0m\u001b[0m\n\u001b[0;32m     32\u001b[0m     \u001b[1;32mif\u001b[0m \u001b[0mst\u001b[0m \u001b[1;33m==\u001b[0m \u001b[1;36m0\u001b[0m \u001b[1;32mand\u001b[0m \u001b[0mba\u001b[0m \u001b[1;33m==\u001b[0m \u001b[1;36m0\u001b[0m\u001b[1;33m:\u001b[0m\u001b[1;33m\u001b[0m\u001b[1;33m\u001b[0m\u001b[0m\n",
      "\u001b[1;31mIndexError\u001b[0m: list index out of range"
     ]
    }
   ],
   "source": []
  },
  {
   "cell_type": "code",
   "execution_count": null,
   "metadata": {},
   "outputs": [],
   "source": []
  }
 ],
 "metadata": {
  "kernelspec": {
   "display_name": "Python 3",
   "language": "python",
   "name": "python3"
  },
  "language_info": {
   "codemirror_mode": {
    "name": "ipython",
    "version": 3
   },
   "file_extension": ".py",
   "mimetype": "text/x-python",
   "name": "python",
   "nbconvert_exporter": "python",
   "pygments_lexer": "ipython3",
   "version": "3.8.3"
  }
 },
 "nbformat": 4,
 "nbformat_minor": 4
}
